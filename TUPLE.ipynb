{
  "nbformat": 4,
  "nbformat_minor": 0,
  "metadata": {
    "colab": {
      "provenance": [],
      "authorship_tag": "ABX9TyMvrmoa+LVGsNQSD48agEeI",
      "include_colab_link": true
    },
    "kernelspec": {
      "name": "python3",
      "display_name": "Python 3"
    },
    "language_info": {
      "name": "python"
    }
  },
  "cells": [
    {
      "cell_type": "markdown",
      "metadata": {
        "id": "view-in-github",
        "colab_type": "text"
      },
      "source": [
        "<a href=\"https://colab.research.google.com/github/hellenkemunto95/joy/blob/main/TUPLE.ipynb\" target=\"_parent\"><img src=\"https://colab.research.google.com/assets/colab-badge.svg\" alt=\"Open In Colab\"/></a>"
      ]
    },
    {
      "cell_type": "code",
      "execution_count": null,
      "metadata": {
        "colab": {
          "base_uri": "https://localhost:8080/"
        },
        "id": "SEHmBXbODD9Z",
        "outputId": "0ce9bdc5-899d-42f6-a3ee-1b9a1797ef9d"
      },
      "outputs": [
        {
          "output_type": "stream",
          "name": "stdout",
          "text": [
            "(1, 2, 3, 4, 5)\n",
            "<class 'tuple'>\n"
          ]
        }
      ],
      "source": [
        "new_tuple_one= (1,2,3,4,5,)\n",
        "print(new_tuple_one)\n",
        "print(type(new_tuple_one))"
      ]
    },
    {
      "cell_type": "code",
      "source": [
        "# indexing\n",
        "new_tuple_one= \"orange\",\"banana\",\"berry\",\"mango\"\n",
        "print(new_tuple_one[2])"
      ],
      "metadata": {
        "colab": {
          "base_uri": "https://localhost:8080/"
        },
        "id": "gTjB9-GRE3FG",
        "outputId": "a4fa61dd-40e5-4fcf-a7cd-6100e704177d"
      },
      "execution_count": null,
      "outputs": [
        {
          "output_type": "stream",
          "name": "stdout",
          "text": [
            "berry\n"
          ]
        }
      ]
    },
    {
      "cell_type": "code",
      "source": [
        "# tuple immutable\n",
        "new_tuple_one= (1,3,8,9,'winter','spring')\n",
        "print(new_tuple_one[3])"
      ],
      "metadata": {
        "colab": {
          "base_uri": "https://localhost:8080/"
        },
        "id": "Q-FzKKSrFxNX",
        "outputId": "62e30b7b-226a-4a57-ef99-1df9fec858f3"
      },
      "execution_count": null,
      "outputs": [
        {
          "output_type": "stream",
          "name": "stdout",
          "text": [
            "9\n"
          ]
        }
      ]
    },
    {
      "cell_type": "code",
      "source": [
        "new_name= 'hellen',''\n",
        "emerged_name=new_name*3\n",
        "print(emerged_name)"
      ],
      "metadata": {
        "colab": {
          "base_uri": "https://localhost:8080/"
        },
        "id": "fceXwB2QHwOp",
        "outputId": "ac0245b9-ba11-4d94-9705-71c1a433fb87"
      },
      "execution_count": null,
      "outputs": [
        {
          "output_type": "stream",
          "name": "stdout",
          "text": [
            "('hellen', '', 'hellen', '', 'hellen', '')\n"
          ]
        }
      ]
    },
    {
      "cell_type": "code",
      "source": [
        "new_name='hellen',4,7\n",
        "print(len(new_name))\n"
      ],
      "metadata": {
        "colab": {
          "base_uri": "https://localhost:8080/"
        },
        "id": "m3qsErssJcsw",
        "outputId": "cdc19be9-69af-4f41-a310-8ea35a186eaf"
      },
      "execution_count": null,
      "outputs": [
        {
          "output_type": "stream",
          "name": "stdout",
          "text": [
            "3\n"
          ]
        }
      ]
    },
    {
      "cell_type": "code",
      "source": [],
      "metadata": {
        "id": "NszikyFmKUcx"
      },
      "execution_count": null,
      "outputs": []
    },
    {
      "cell_type": "code",
      "source": [
        "new_tuple=3,4,6,7,8,9,7,3,1\n",
        "min_value=min(new_tuple)\n",
        "print(min_value)\n",
        "max_value=max(new_tuple)\n",
        "print(max_value)"
      ],
      "metadata": {
        "colab": {
          "base_uri": "https://localhost:8080/"
        },
        "id": "QVAn-a9DKagp",
        "outputId": "fec0641e-d72a-4b9c-8e4d-76ed376c29a0"
      },
      "execution_count": null,
      "outputs": [
        {
          "output_type": "stream",
          "name": "stdout",
          "text": [
            "1\n",
            "9\n"
          ]
        }
      ]
    },
    {
      "cell_type": "code",
      "source": [
        "new_tuple=3,4,6,7,8,9,7,3,\n"
      ],
      "metadata": {
        "id": "j_BL4sxuLUNz"
      },
      "execution_count": null,
      "outputs": []
    }
  ]
}